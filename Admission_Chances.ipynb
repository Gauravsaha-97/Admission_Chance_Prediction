{
  "nbformat": 4,
  "nbformat_minor": 0,
  "metadata": {
    "colab": {
      "name": "Admission_Chances.ipynb",
      "provenance": [],
      "mount_file_id": "1uHFfdjKeolylTXhVYRjVpq7XwygtETYs",
      "authorship_tag": "ABX9TyMQnq5MVCvgmZnc+OzBJgrg",
      "include_colab_link": true
    },
    "kernelspec": {
      "name": "python3",
      "display_name": "Python 3"
    },
    "accelerator": "GPU"
  },
  "cells": [
    {
      "cell_type": "markdown",
      "metadata": {
        "id": "view-in-github",
        "colab_type": "text"
      },
      "source": [
        "<a href=\"https://colab.research.google.com/github/Gauravsaha-97/Admission_Chance_Prediction/blob/master/Admission_Chances.ipynb\" target=\"_parent\"><img src=\"https://colab.research.google.com/assets/colab-badge.svg\" alt=\"Open In Colab\"/></a>"
      ]
    },
    {
      "cell_type": "code",
      "metadata": {
        "id": "ftP8roXWgqM-",
        "colab_type": "code",
        "colab": {
          "base_uri": "https://localhost:8080/",
          "height": 74
        },
        "outputId": "1123fe95-912e-40f5-db35-4cb09fefcb30"
      },
      "source": [
        "import numpy as np\n",
        "import pandas as pd\n",
        "import matplotlib.pyplot as plt\n",
        "import seaborn as sns"
      ],
      "execution_count": 1,
      "outputs": [
        {
          "output_type": "stream",
          "text": [
            "/usr/local/lib/python3.6/dist-packages/statsmodels/tools/_testing.py:19: FutureWarning: pandas.util.testing is deprecated. Use the functions in the public API at pandas.testing instead.\n",
            "  import pandas.util.testing as tm\n"
          ],
          "name": "stderr"
        }
      ]
    },
    {
      "cell_type": "code",
      "metadata": {
        "id": "xC_Dni_ng48x",
        "colab_type": "code",
        "colab": {
          "base_uri": "https://localhost:8080/",
          "height": 198
        },
        "outputId": "1e412d5b-b6c3-427d-cb0a-8f4abaff3438"
      },
      "source": [
        "train_data = pd.read_csv(\"/content/drive/My Drive/Admission/datasets_14872_228180_Admission_Predict.csv\")\n",
        "\n",
        "train_data.head()"
      ],
      "execution_count": 2,
      "outputs": [
        {
          "output_type": "execute_result",
          "data": {
            "text/html": [
              "<div>\n",
              "<style scoped>\n",
              "    .dataframe tbody tr th:only-of-type {\n",
              "        vertical-align: middle;\n",
              "    }\n",
              "\n",
              "    .dataframe tbody tr th {\n",
              "        vertical-align: top;\n",
              "    }\n",
              "\n",
              "    .dataframe thead th {\n",
              "        text-align: right;\n",
              "    }\n",
              "</style>\n",
              "<table border=\"1\" class=\"dataframe\">\n",
              "  <thead>\n",
              "    <tr style=\"text-align: right;\">\n",
              "      <th></th>\n",
              "      <th>Serial No.</th>\n",
              "      <th>GRE Score</th>\n",
              "      <th>TOEFL Score</th>\n",
              "      <th>University Rating</th>\n",
              "      <th>SOP</th>\n",
              "      <th>LOR</th>\n",
              "      <th>CGPA</th>\n",
              "      <th>Research</th>\n",
              "      <th>Chance of Admit</th>\n",
              "    </tr>\n",
              "  </thead>\n",
              "  <tbody>\n",
              "    <tr>\n",
              "      <th>0</th>\n",
              "      <td>1</td>\n",
              "      <td>337</td>\n",
              "      <td>118</td>\n",
              "      <td>4</td>\n",
              "      <td>4.5</td>\n",
              "      <td>4.5</td>\n",
              "      <td>9.65</td>\n",
              "      <td>1</td>\n",
              "      <td>0.92</td>\n",
              "    </tr>\n",
              "    <tr>\n",
              "      <th>1</th>\n",
              "      <td>2</td>\n",
              "      <td>324</td>\n",
              "      <td>107</td>\n",
              "      <td>4</td>\n",
              "      <td>4.0</td>\n",
              "      <td>4.5</td>\n",
              "      <td>8.87</td>\n",
              "      <td>1</td>\n",
              "      <td>0.76</td>\n",
              "    </tr>\n",
              "    <tr>\n",
              "      <th>2</th>\n",
              "      <td>3</td>\n",
              "      <td>316</td>\n",
              "      <td>104</td>\n",
              "      <td>3</td>\n",
              "      <td>3.0</td>\n",
              "      <td>3.5</td>\n",
              "      <td>8.00</td>\n",
              "      <td>1</td>\n",
              "      <td>0.72</td>\n",
              "    </tr>\n",
              "    <tr>\n",
              "      <th>3</th>\n",
              "      <td>4</td>\n",
              "      <td>322</td>\n",
              "      <td>110</td>\n",
              "      <td>3</td>\n",
              "      <td>3.5</td>\n",
              "      <td>2.5</td>\n",
              "      <td>8.67</td>\n",
              "      <td>1</td>\n",
              "      <td>0.80</td>\n",
              "    </tr>\n",
              "    <tr>\n",
              "      <th>4</th>\n",
              "      <td>5</td>\n",
              "      <td>314</td>\n",
              "      <td>103</td>\n",
              "      <td>2</td>\n",
              "      <td>2.0</td>\n",
              "      <td>3.0</td>\n",
              "      <td>8.21</td>\n",
              "      <td>0</td>\n",
              "      <td>0.65</td>\n",
              "    </tr>\n",
              "  </tbody>\n",
              "</table>\n",
              "</div>"
            ],
            "text/plain": [
              "   Serial No.  GRE Score  TOEFL Score  ...  CGPA  Research  Chance of Admit \n",
              "0           1        337          118  ...  9.65         1              0.92\n",
              "1           2        324          107  ...  8.87         1              0.76\n",
              "2           3        316          104  ...  8.00         1              0.72\n",
              "3           4        322          110  ...  8.67         1              0.80\n",
              "4           5        314          103  ...  8.21         0              0.65\n",
              "\n",
              "[5 rows x 9 columns]"
            ]
          },
          "metadata": {
            "tags": []
          },
          "execution_count": 2
        }
      ]
    },
    {
      "cell_type": "code",
      "metadata": {
        "id": "LvrIPYUihXJy",
        "colab_type": "code",
        "colab": {
          "base_uri": "https://localhost:8080/",
          "height": 35
        },
        "outputId": "a73c61a8-92aa-4358-f249-b434c572fc0b"
      },
      "source": [
        "train_data.duplicated().sum()"
      ],
      "execution_count": 3,
      "outputs": [
        {
          "output_type": "execute_result",
          "data": {
            "text/plain": [
              "0"
            ]
          },
          "metadata": {
            "tags": []
          },
          "execution_count": 3
        }
      ]
    },
    {
      "cell_type": "code",
      "metadata": {
        "id": "6oaDkt_AhZxd",
        "colab_type": "code",
        "colab": {
          "base_uri": "https://localhost:8080/",
          "height": 308
        },
        "outputId": "e8fa9d15-057f-4fb2-ced8-4655237aae80"
      },
      "source": [
        "train_data.info()"
      ],
      "execution_count": 4,
      "outputs": [
        {
          "output_type": "stream",
          "text": [
            "<class 'pandas.core.frame.DataFrame'>\n",
            "RangeIndex: 400 entries, 0 to 399\n",
            "Data columns (total 9 columns):\n",
            " #   Column             Non-Null Count  Dtype  \n",
            "---  ------             --------------  -----  \n",
            " 0   Serial No.         400 non-null    int64  \n",
            " 1   GRE Score          400 non-null    int64  \n",
            " 2   TOEFL Score        400 non-null    int64  \n",
            " 3   University Rating  400 non-null    int64  \n",
            " 4   SOP                400 non-null    float64\n",
            " 5   LOR                400 non-null    float64\n",
            " 6   CGPA               400 non-null    float64\n",
            " 7   Research           400 non-null    int64  \n",
            " 8   Chance of Admit    400 non-null    float64\n",
            "dtypes: float64(4), int64(5)\n",
            "memory usage: 28.2 KB\n"
          ],
          "name": "stdout"
        }
      ]
    },
    {
      "cell_type": "code",
      "metadata": {
        "id": "5WfQGlJBhuk8",
        "colab_type": "code",
        "colab": {}
      },
      "source": [
        "train_data.drop('Serial No.', axis=1, inplace=True)"
      ],
      "execution_count": 5,
      "outputs": []
    },
    {
      "cell_type": "code",
      "metadata": {
        "id": "MzQtNEPRiMk6",
        "colab_type": "code",
        "colab": {}
      },
      "source": [
        "from sklearn.model_selection import train_test_split\n",
        "from sklearn.preprocessing import StandardScaler"
      ],
      "execution_count": 6,
      "outputs": []
    },
    {
      "cell_type": "code",
      "metadata": {
        "id": "Q-07Sc7migL7",
        "colab_type": "code",
        "colab": {
          "base_uri": "https://localhost:8080/",
          "height": 297
        },
        "outputId": "fb45df70-bd40-4be8-ac15-b4ec8b10ea09"
      },
      "source": [
        "# Plotting of The Research columns\n",
        "sns.countplot(train_data['Research'])"
      ],
      "execution_count": 7,
      "outputs": [
        {
          "output_type": "execute_result",
          "data": {
            "text/plain": [
              "<matplotlib.axes._subplots.AxesSubplot at 0x7f7526c8ee10>"
            ]
          },
          "metadata": {
            "tags": []
          },
          "execution_count": 7
        },
        {
          "output_type": "display_data",
          "data": {
            "image/png": "[encoded data removed]",
            "text/plain": [
              "<Figure size 432x288 with 1 Axes>"
            ]
          },
          "metadata": {
            "tags": [],
            "needs_background": "light"
          }
        }
      ]
    },
    {
      "cell_type": "markdown",
      "metadata": {
        "id": "oiV6gBgnj6F0",
        "colab_type": "text"
      },
      "source": [
        "### The number of Research Persons is more."
      ]
    },
    {
      "cell_type": "code",
      "metadata": {
        "id": "RhlcQ641ikpL",
        "colab_type": "code",
        "colab": {
          "base_uri": "https://localhost:8080/",
          "height": 297
        },
        "outputId": "c10d612e-67cd-47de-963b-3f529326613a"
      },
      "source": [
        "sns.countplot(train_data['University Rating'])"
      ],
      "execution_count": 8,
      "outputs": [
        {
          "output_type": "execute_result",
          "data": {
            "text/plain": [
              "<matplotlib.axes._subplots.AxesSubplot at 0x7f75269af780>"
            ]
          },
          "metadata": {
            "tags": []
          },
          "execution_count": 8
        },
        {
          "output_type": "display_data",
          "data": {
            "image/png": "[encoded data removed]",
            "text/plain": [
              "<Figure size 432x288 with 1 Axes>"
            ]
          },
          "metadata": {
            "tags": [],
            "needs_background": "light"
          }
        }
      ]
    },
    {
      "cell_type": "markdown",
      "metadata": {
        "id": "YCQoVwRMkDHq",
        "colab_type": "text"
      },
      "source": [
        "### 3-rated University students are more as compared to others. Minimum number of students are rated 1"
      ]
    },
    {
      "cell_type": "code",
      "metadata": {
        "id": "_WUMb9LNivDr",
        "colab_type": "code",
        "colab": {
          "base_uri": "https://localhost:8080/",
          "height": 301
        },
        "outputId": "34188227-c7bf-4be4-f5f7-d53d021d2164"
      },
      "source": [
        "sns.scatterplot(x = 'GRE Score', y = 'Chance of Admit ', data=train_data)"
      ],
      "execution_count": 9,
      "outputs": [
        {
          "output_type": "execute_result",
          "data": {
            "text/plain": [
              "<matplotlib.axes._subplots.AxesSubplot at 0x7f75269b9dd8>"
            ]
          },
          "metadata": {
            "tags": []
          },
          "execution_count": 9
        },
        {
          "output_type": "display_data",
          "data": {
            "image/png": "[encoded data removed]",
            "text/plain": [
              "<Figure size 432x288 with 1 Axes>"
            ]
          },
          "metadata": {
            "tags": [],
            "needs_background": "light"
          }
        }
      ]
    },
    {
      "cell_type": "markdown",
      "metadata": {
        "id": "ZaqMLjf1kPhz",
        "colab_type": "text"
      },
      "source": [
        "### As the GRE Score increases, the chances of getting admission increases"
      ]
    },
    {
      "cell_type": "code",
      "metadata": {
        "id": "mkaspbiTjDOq",
        "colab_type": "code",
        "colab": {
          "base_uri": "https://localhost:8080/",
          "height": 301
        },
        "outputId": "2f3fa65f-cf3f-4651-8e8c-aa107acf5673"
      },
      "source": [
        "sns.scatterplot(x = 'TOEFL Score', y = 'Chance of Admit ', data=train_data)"
      ],
      "execution_count": 10,
      "outputs": [
        {
          "output_type": "execute_result",
          "data": {
            "text/plain": [
              "<matplotlib.axes._subplots.AxesSubplot at 0x7f75264c3f98>"
            ]
          },
          "metadata": {
            "tags": []
          },
          "execution_count": 10
        },
        {
          "output_type": "display_data",
          "data": {
            "image/png": "[encoded data removed]",
            "text/plain": [
              "<Figure size 432x288 with 1 Axes>"
            ]
          },
          "metadata": {
            "tags": [],
            "needs_background": "light"
          }
        }
      ]
    },
    {
      "cell_type": "markdown",
      "metadata": {
        "id": "anKz47xYkX-0",
        "colab_type": "text"
      },
      "source": [
        "### As the TOEFL Score increases, the chances of admission increases"
      ]
    },
    {
      "cell_type": "code",
      "metadata": {
        "id": "IblwDZ5sjq7B",
        "colab_type": "code",
        "colab": {}
      },
      "source": [
        "cols_to_encode = ['University Rating','Research']\n",
        "train_df = pd.get_dummies(data = train_data, columns = cols_to_encode, drop_first=True)"
      ],
      "execution_count": 11,
      "outputs": []
    },
    {
      "cell_type": "code",
      "metadata": {
        "id": "KbGSmbjQkwRC",
        "colab_type": "code",
        "colab": {
          "base_uri": "https://localhost:8080/",
          "height": 90
        },
        "outputId": "638150d5-2fa0-442b-a078-44e8ef4e7017"
      },
      "source": [
        "train_df.columns"
      ],
      "execution_count": 12,
      "outputs": [
        {
          "output_type": "execute_result",
          "data": {
            "text/plain": [
              "Index(['GRE Score', 'TOEFL Score', 'SOP', 'LOR ', 'CGPA', 'Chance of Admit ',\n",
              "       'University Rating_2', 'University Rating_3', 'University Rating_4',\n",
              "       'University Rating_5', 'Research_1'],\n",
              "      dtype='object')"
            ]
          },
          "metadata": {
            "tags": []
          },
          "execution_count": 12
        }
      ]
    },
    {
      "cell_type": "code",
      "metadata": {
        "id": "5FZonxObkyEL",
        "colab_type": "code",
        "colab": {}
      },
      "source": [
        "X_train = train_df.drop('Chance of Admit ', axis=1)\n",
        "Y_train = train_df[['Chance of Admit ']]"
      ],
      "execution_count": 13,
      "outputs": []
    },
    {
      "cell_type": "code",
      "metadata": {
        "id": "4vgtf8yclHRa",
        "colab_type": "code",
        "colab": {}
      },
      "source": [
        "scalar = StandardScaler()\n",
        "X_train_std = scalar.fit_transform(X_train)\n",
        "X_train_std = pd.DataFrame(X_train_std)\n",
        "X_train_std.columns = X_train.columns"
      ],
      "execution_count": 14,
      "outputs": []
    },
    {
      "cell_type": "code",
      "metadata": {
        "id": "MrPzKz3glcwO",
        "colab_type": "code",
        "colab": {
          "base_uri": "https://localhost:8080/",
          "height": 215
        },
        "outputId": "05afbbf4-f986-47eb-f247-fd6853717ce1"
      },
      "source": [
        "X_train_std.head()"
      ],
      "execution_count": 15,
      "outputs": [
        {
          "output_type": "execute_result",
          "data": {
            "text/html": [
              "<div>\n",
              "<style scoped>\n",
              "    .dataframe tbody tr th:only-of-type {\n",
              "        vertical-align: middle;\n",
              "    }\n",
              "\n",
              "    .dataframe tbody tr th {\n",
              "        vertical-align: top;\n",
              "    }\n",
              "\n",
              "    .dataframe thead th {\n",
              "        text-align: right;\n",
              "    }\n",
              "</style>\n",
              "<table border=\"1\" class=\"dataframe\">\n",
              "  <thead>\n",
              "    <tr style=\"text-align: right;\">\n",
              "      <th></th>\n",
              "      <th>GRE Score</th>\n",
              "      <th>TOEFL Score</th>\n",
              "      <th>SOP</th>\n",
              "      <th>LOR</th>\n",
              "      <th>CGPA</th>\n",
              "      <th>University Rating_2</th>\n",
              "      <th>University Rating_3</th>\n",
              "      <th>University Rating_4</th>\n",
              "      <th>University Rating_5</th>\n",
              "      <th>Research_1</th>\n",
              "    </tr>\n",
              "  </thead>\n",
              "  <tbody>\n",
              "    <tr>\n",
              "      <th>0</th>\n",
              "      <td>1.762107</td>\n",
              "      <td>1.746971</td>\n",
              "      <td>1.093864</td>\n",
              "      <td>1.167321</td>\n",
              "      <td>1.764818</td>\n",
              "      <td>-0.604308</td>\n",
              "      <td>-0.705781</td>\n",
              "      <td>2.098906</td>\n",
              "      <td>-0.420084</td>\n",
              "      <td>0.909112</td>\n",
              "    </tr>\n",
              "    <tr>\n",
              "      <th>1</th>\n",
              "      <td>0.627656</td>\n",
              "      <td>-0.067635</td>\n",
              "      <td>0.596653</td>\n",
              "      <td>1.167321</td>\n",
              "      <td>0.455151</td>\n",
              "      <td>-0.604308</td>\n",
              "      <td>-0.705781</td>\n",
              "      <td>2.098906</td>\n",
              "      <td>-0.420084</td>\n",
              "      <td>0.909112</td>\n",
              "    </tr>\n",
              "    <tr>\n",
              "      <th>2</th>\n",
              "      <td>-0.070467</td>\n",
              "      <td>-0.562528</td>\n",
              "      <td>-0.397769</td>\n",
              "      <td>0.052933</td>\n",
              "      <td>-1.005631</td>\n",
              "      <td>-0.604308</td>\n",
              "      <td>1.416869</td>\n",
              "      <td>-0.476439</td>\n",
              "      <td>-0.420084</td>\n",
              "      <td>0.909112</td>\n",
              "    </tr>\n",
              "    <tr>\n",
              "      <th>3</th>\n",
              "      <td>0.453126</td>\n",
              "      <td>0.427257</td>\n",
              "      <td>0.099442</td>\n",
              "      <td>-1.061454</td>\n",
              "      <td>0.119339</td>\n",
              "      <td>-0.604308</td>\n",
              "      <td>1.416869</td>\n",
              "      <td>-0.476439</td>\n",
              "      <td>-0.420084</td>\n",
              "      <td>0.909112</td>\n",
              "    </tr>\n",
              "    <tr>\n",
              "      <th>4</th>\n",
              "      <td>-0.244998</td>\n",
              "      <td>-0.727492</td>\n",
              "      <td>-1.392191</td>\n",
              "      <td>-0.504260</td>\n",
              "      <td>-0.653029</td>\n",
              "      <td>1.654786</td>\n",
              "      <td>-0.705781</td>\n",
              "      <td>-0.476439</td>\n",
              "      <td>-0.420084</td>\n",
              "      <td>-1.099975</td>\n",
              "    </tr>\n",
              "  </tbody>\n",
              "</table>\n",
              "</div>"
            ],
            "text/plain": [
              "   GRE Score  TOEFL Score  ...  University Rating_5  Research_1\n",
              "0   1.762107     1.746971  ...            -0.420084    0.909112\n",
              "1   0.627656    -0.067635  ...            -0.420084    0.909112\n",
              "2  -0.070467    -0.562528  ...            -0.420084    0.909112\n",
              "3   0.453126     0.427257  ...            -0.420084    0.909112\n",
              "4  -0.244998    -0.727492  ...            -0.420084   -1.099975\n",
              "\n",
              "[5 rows x 10 columns]"
            ]
          },
          "metadata": {
            "tags": []
          },
          "execution_count": 15
        }
      ]
    },
    {
      "cell_type": "code",
      "metadata": {
        "id": "yShSPU1ClfY_",
        "colab_type": "code",
        "colab": {
          "base_uri": "https://localhost:8080/",
          "height": 35
        },
        "outputId": "24a42820-f635-4c34-989c-08c111d06e75"
      },
      "source": [
        "Y_train.shape, X_train_std.shape"
      ],
      "execution_count": 16,
      "outputs": [
        {
          "output_type": "execute_result",
          "data": {
            "text/plain": [
              "((400, 1), (400, 10))"
            ]
          },
          "metadata": {
            "tags": []
          },
          "execution_count": 16
        }
      ]
    },
    {
      "cell_type": "code",
      "metadata": {
        "id": "zwv4hmbXmc5b",
        "colab_type": "code",
        "colab": {}
      },
      "source": [
        "X_train, X_test, Y_train, Y_test = train_test_split(X_train_std, Y_train, test_size=0.2)"
      ],
      "execution_count": 17,
      "outputs": []
    },
    {
      "cell_type": "code",
      "metadata": {
        "id": "UQeOwju7nxcR",
        "colab_type": "code",
        "colab": {}
      },
      "source": [
        "from sklearn.linear_model import Lasso\n",
        "model = Lasso()\n",
        "model.fit(X_train, Y_train)\n",
        "pred  = model.predict(X_test)"
      ],
      "execution_count": 18,
      "outputs": []
    },
    {
      "cell_type": "code",
      "metadata": {
        "id": "jwXhKxGAnzh6",
        "colab_type": "code",
        "colab": {
          "base_uri": "https://localhost:8080/",
          "height": 54
        },
        "outputId": "717d5f48-7523-4225-9280-86c5bb6bfd81"
      },
      "source": [
        "from sklearn.metrics import mean_squared_error, mean_absolute_error \n",
        "print(f\"Mean Sequared Error of our model is {mean_squared_error(Y_test, pred)}\")\n",
        "print(f\"Mean Absolute Error of our model is {mean_absolute_error(Y_test, pred)}\")"
      ],
      "execution_count": 23,
      "outputs": [
        {
          "output_type": "stream",
          "text": [
            "Mean Sequared Error of our model is 0.0225515\n",
            "Mean Absolute Error of our model is 0.11757499999999999\n"
          ],
          "name": "stdout"
        }
      ]
    },
    {
      "cell_type": "code",
      "metadata": {
        "id": "1xrRSB9cosc9",
        "colab_type": "code",
        "colab": {}
      },
      "source": [
        ""
      ],
      "execution_count": null,
      "outputs": []
    }
  ]
}